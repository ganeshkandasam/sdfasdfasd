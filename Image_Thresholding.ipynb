{
 "cells": [
  {
   "cell_type": "markdown",
   "id": "76cd58f5",
   "metadata": {},
   "source": [
    "# Image Thresholding"
   ]
  },
  {
   "cell_type": "code",
   "execution_count": 1,
   "id": "e951021a",
   "metadata": {},
   "outputs": [],
   "source": [
    "import cv2\n",
    "import numpy as np"
   ]
  },
  {
   "cell_type": "code",
   "execution_count": 2,
   "id": "f9dd4032",
   "metadata": {},
   "outputs": [],
   "source": [
    "im1=cv2.imread(\"img1.jfif\")\n",
    "im2=cv2.imread(\"img2.jfif\")"
   ]
  },
  {
   "cell_type": "code",
   "execution_count": 3,
   "id": "ce8c078c",
   "metadata": {},
   "outputs": [
    {
     "name": "stdout",
     "output_type": "stream",
     "text": [
      "(180, 216, 3)\n",
      "(180, 267, 3)\n"
     ]
    }
   ],
   "source": [
    "print(im1.shape)\n",
    "print(im2.shape)"
   ]
  },
  {
   "cell_type": "code",
   "execution_count": 4,
   "id": "195ed6ea",
   "metadata": {},
   "outputs": [
    {
     "data": {
      "text/plain": [
       "array([[[237, 177, 111],\n",
       "        [237, 177, 111],\n",
       "        [237, 177, 111],\n",
       "        ...,\n",
       "        [237, 177, 111],\n",
       "        [237, 177, 111],\n",
       "        [237, 177, 111]],\n",
       "\n",
       "       [[235, 175, 109],\n",
       "        [235, 175, 109],\n",
       "        [235, 175, 109],\n",
       "        ...,\n",
       "        [235, 175, 109],\n",
       "        [235, 175, 109],\n",
       "        [235, 175, 109]],\n",
       "\n",
       "       [[233, 174, 105],\n",
       "        [233, 174, 105],\n",
       "        [233, 174, 105],\n",
       "        ...,\n",
       "        [233, 174, 105],\n",
       "        [233, 174, 105],\n",
       "        [233, 174, 105]],\n",
       "\n",
       "       ...,\n",
       "\n",
       "       [[ 27,  77,  29],\n",
       "        [ 28,  75,  29],\n",
       "        [ 34,  77,  34],\n",
       "        ...,\n",
       "        [ 90, 146,  57],\n",
       "        [ 96, 157,  66],\n",
       "        [ 83, 147,  52]],\n",
       "\n",
       "       [[  3,  53,   5],\n",
       "        [  0,  45,   0],\n",
       "        [  2,  45,   2],\n",
       "        ...,\n",
       "        [ 35,  93,   5],\n",
       "        [ 52, 114,  24],\n",
       "        [ 43, 108,  16]],\n",
       "\n",
       "       [[  0,  47,   0],\n",
       "        [  0,  36,   0],\n",
       "        [  0,  33,   0],\n",
       "        ...,\n",
       "        [ 32,  92,   4],\n",
       "        [ 36,  98,   8],\n",
       "        [ 46, 111,  19]]], dtype=uint8)"
      ]
     },
     "execution_count": 4,
     "metadata": {},
     "output_type": "execute_result"
    }
   ],
   "source": [
    "im1"
   ]
  },
  {
   "cell_type": "code",
   "execution_count": 5,
   "id": "1fee8159",
   "metadata": {},
   "outputs": [
    {
     "data": {
      "text/plain": [
       "array([[[253, 247, 242],\n",
       "        [250, 244, 239],\n",
       "        [251, 245, 240],\n",
       "        ...,\n",
       "        [254, 253, 249],\n",
       "        [254, 253, 249],\n",
       "        [254, 253, 249]],\n",
       "\n",
       "       [[249, 243, 238],\n",
       "        [246, 240, 235],\n",
       "        [247, 241, 236],\n",
       "        ...,\n",
       "        [254, 253, 249],\n",
       "        [254, 253, 249],\n",
       "        [254, 253, 249]],\n",
       "\n",
       "       [[248, 242, 237],\n",
       "        [244, 238, 233],\n",
       "        [244, 238, 233],\n",
       "        ...,\n",
       "        [254, 253, 249],\n",
       "        [254, 253, 249],\n",
       "        [254, 253, 249]],\n",
       "\n",
       "       ...,\n",
       "\n",
       "       [[244, 235, 222],\n",
       "        [246, 238, 225],\n",
       "        [234, 225, 216],\n",
       "        ...,\n",
       "        [224, 218, 211],\n",
       "        [224, 218, 211],\n",
       "        [224, 218, 211]],\n",
       "\n",
       "       [[245, 236, 223],\n",
       "        [248, 240, 227],\n",
       "        [236, 227, 218],\n",
       "        ...,\n",
       "        [227, 221, 214],\n",
       "        [227, 221, 214],\n",
       "        [227, 221, 214]],\n",
       "\n",
       "       [[247, 238, 225],\n",
       "        [250, 242, 229],\n",
       "        [238, 229, 220],\n",
       "        ...,\n",
       "        [230, 224, 217],\n",
       "        [230, 224, 217],\n",
       "        [230, 224, 217]]], dtype=uint8)"
      ]
     },
     "execution_count": 5,
     "metadata": {},
     "output_type": "execute_result"
    }
   ],
   "source": [
    "im2"
   ]
  },
  {
   "cell_type": "code",
   "execution_count": 6,
   "id": "ef5b79e3",
   "metadata": {},
   "outputs": [],
   "source": [
    "im1_shape=im1.shape\n",
    "im2_shape=im2.shape"
   ]
  },
  {
   "cell_type": "code",
   "execution_count": 7,
   "id": "8cbdb45c",
   "metadata": {},
   "outputs": [],
   "source": [
    "im1_resized=cv2.resize(im1,(230,290))\n",
    "im2_resized=cv2.resize(im2,(230,290))"
   ]
  },
  {
   "cell_type": "raw",
   "id": "22c0149b",
   "metadata": {},
   "source": [
    "cv2.imshow(\"Sample1\",im1)\n",
    "cv2.imshow(\"Sample3\",im1_resized)\n",
    "cv2.imshow(\"Sample1\",im1)\n",
    "cv2.imshow(\"SAmple4\",im2_resized)\n",
    "cv2.waitKey(0)\n",
    "cv2.destroyAllWindows()"
   ]
  },
  {
   "cell_type": "code",
   "execution_count": 8,
   "id": "7bdead45",
   "metadata": {},
   "outputs": [],
   "source": [
    "cv2.imshow(\"Sample1\",im1_resized)\n",
    "cv2.waitKey(0)\n",
    "cv2.destroyAllWindows()"
   ]
  },
  {
   "cell_type": "code",
   "execution_count": 9,
   "id": "f81cf59a",
   "metadata": {},
   "outputs": [],
   "source": [
    "cv2.imshow(\"Sample2\",im2_resized)\n",
    "cv2.waitKey(0)\n",
    "cv2.destroyAllWindows()"
   ]
  },
  {
   "cell_type": "raw",
   "id": "fea2b7ae",
   "metadata": {},
   "source": [
    "blend=cv2.addWeighted(im1_resized,0.5,im2_resized,0.5,0)"
   ]
  },
  {
   "cell_type": "raw",
   "id": "bd602040",
   "metadata": {},
   "source": [
    "cv2.imshow(\"blend\",blend)\n",
    "cv2.waitKey(0)\n",
    "cv2.destroyAllWindows()"
   ]
  },
  {
   "cell_type": "raw",
   "id": "8315172d",
   "metadata": {},
   "source": [
    "syntax:\n",
    "    ret,varname=cv2.threshold(inputimage,threshold limit,replace value, <threshold type>)"
   ]
  },
  {
   "cell_type": "code",
   "execution_count": 11,
   "id": "ebf48774",
   "metadata": {},
   "outputs": [],
   "source": [
    "ret,thres1=cv2.threshold(im1,83,100,cv2.THRESH_BINARY)\n",
    "ret,thres2=cv2.threshold(im1,83,100,cv2.THRESH_BINARY_INV)\n",
    "ret,thres3=cv2.threshold(im1,83,100,cv2.THRESH_TRUNC)\n",
    "ret,thres4=cv2.threshold(im1,83,100,cv2.THRESH_TOZERO)\n",
    "ret,thres5=cv2.threshold(im1,83,100,cv2.THRESH_TOZERO_INV)"
   ]
  },
  {
   "cell_type": "code",
   "execution_count": 12,
   "id": "e2116459",
   "metadata": {},
   "outputs": [
    {
     "data": {
      "text/plain": [
       "array([[[100, 100, 100],\n",
       "        [100, 100, 100],\n",
       "        [100, 100, 100],\n",
       "        ...,\n",
       "        [100, 100, 100],\n",
       "        [100, 100, 100],\n",
       "        [100, 100, 100]],\n",
       "\n",
       "       [[100, 100, 100],\n",
       "        [100, 100, 100],\n",
       "        [100, 100, 100],\n",
       "        ...,\n",
       "        [100, 100, 100],\n",
       "        [100, 100, 100],\n",
       "        [100, 100, 100]],\n",
       "\n",
       "       [[100, 100, 100],\n",
       "        [100, 100, 100],\n",
       "        [100, 100, 100],\n",
       "        ...,\n",
       "        [100, 100, 100],\n",
       "        [100, 100, 100],\n",
       "        [100, 100, 100]],\n",
       "\n",
       "       ...,\n",
       "\n",
       "       [[  0,   0,   0],\n",
       "        [  0,   0,   0],\n",
       "        [  0,   0,   0],\n",
       "        ...,\n",
       "        [100, 100,   0],\n",
       "        [100, 100,   0],\n",
       "        [  0, 100,   0]],\n",
       "\n",
       "       [[  0,   0,   0],\n",
       "        [  0,   0,   0],\n",
       "        [  0,   0,   0],\n",
       "        ...,\n",
       "        [  0, 100,   0],\n",
       "        [  0, 100,   0],\n",
       "        [  0, 100,   0]],\n",
       "\n",
       "       [[  0,   0,   0],\n",
       "        [  0,   0,   0],\n",
       "        [  0,   0,   0],\n",
       "        ...,\n",
       "        [  0, 100,   0],\n",
       "        [  0, 100,   0],\n",
       "        [  0, 100,   0]]], dtype=uint8)"
      ]
     },
     "execution_count": 12,
     "metadata": {},
     "output_type": "execute_result"
    }
   ],
   "source": [
    "thres1"
   ]
  },
  {
   "cell_type": "code",
   "execution_count": 13,
   "id": "ec35742c",
   "metadata": {},
   "outputs": [
    {
     "data": {
      "text/plain": [
       "array([[[  0,   0,   0],\n",
       "        [  0,   0,   0],\n",
       "        [  0,   0,   0],\n",
       "        ...,\n",
       "        [  0,   0,   0],\n",
       "        [  0,   0,   0],\n",
       "        [  0,   0,   0]],\n",
       "\n",
       "       [[  0,   0,   0],\n",
       "        [  0,   0,   0],\n",
       "        [  0,   0,   0],\n",
       "        ...,\n",
       "        [  0,   0,   0],\n",
       "        [  0,   0,   0],\n",
       "        [  0,   0,   0]],\n",
       "\n",
       "       [[  0,   0,   0],\n",
       "        [  0,   0,   0],\n",
       "        [  0,   0,   0],\n",
       "        ...,\n",
       "        [  0,   0,   0],\n",
       "        [  0,   0,   0],\n",
       "        [  0,   0,   0]],\n",
       "\n",
       "       ...,\n",
       "\n",
       "       [[100, 100, 100],\n",
       "        [100, 100, 100],\n",
       "        [100, 100, 100],\n",
       "        ...,\n",
       "        [  0,   0, 100],\n",
       "        [  0,   0, 100],\n",
       "        [100,   0, 100]],\n",
       "\n",
       "       [[100, 100, 100],\n",
       "        [100, 100, 100],\n",
       "        [100, 100, 100],\n",
       "        ...,\n",
       "        [100,   0, 100],\n",
       "        [100,   0, 100],\n",
       "        [100,   0, 100]],\n",
       "\n",
       "       [[100, 100, 100],\n",
       "        [100, 100, 100],\n",
       "        [100, 100, 100],\n",
       "        ...,\n",
       "        [100,   0, 100],\n",
       "        [100,   0, 100],\n",
       "        [100,   0, 100]]], dtype=uint8)"
      ]
     },
     "execution_count": 13,
     "metadata": {},
     "output_type": "execute_result"
    }
   ],
   "source": [
    "thres2"
   ]
  },
  {
   "cell_type": "code",
   "execution_count": 14,
   "id": "b594b38c",
   "metadata": {},
   "outputs": [
    {
     "data": {
      "text/plain": [
       "array([[[83, 83, 83],\n",
       "        [83, 83, 83],\n",
       "        [83, 83, 83],\n",
       "        ...,\n",
       "        [83, 83, 83],\n",
       "        [83, 83, 83],\n",
       "        [83, 83, 83]],\n",
       "\n",
       "       [[83, 83, 83],\n",
       "        [83, 83, 83],\n",
       "        [83, 83, 83],\n",
       "        ...,\n",
       "        [83, 83, 83],\n",
       "        [83, 83, 83],\n",
       "        [83, 83, 83]],\n",
       "\n",
       "       [[83, 83, 83],\n",
       "        [83, 83, 83],\n",
       "        [83, 83, 83],\n",
       "        ...,\n",
       "        [83, 83, 83],\n",
       "        [83, 83, 83],\n",
       "        [83, 83, 83]],\n",
       "\n",
       "       ...,\n",
       "\n",
       "       [[27, 77, 29],\n",
       "        [28, 75, 29],\n",
       "        [34, 77, 34],\n",
       "        ...,\n",
       "        [83, 83, 57],\n",
       "        [83, 83, 66],\n",
       "        [83, 83, 52]],\n",
       "\n",
       "       [[ 3, 53,  5],\n",
       "        [ 0, 45,  0],\n",
       "        [ 2, 45,  2],\n",
       "        ...,\n",
       "        [35, 83,  5],\n",
       "        [52, 83, 24],\n",
       "        [43, 83, 16]],\n",
       "\n",
       "       [[ 0, 47,  0],\n",
       "        [ 0, 36,  0],\n",
       "        [ 0, 33,  0],\n",
       "        ...,\n",
       "        [32, 83,  4],\n",
       "        [36, 83,  8],\n",
       "        [46, 83, 19]]], dtype=uint8)"
      ]
     },
     "execution_count": 14,
     "metadata": {},
     "output_type": "execute_result"
    }
   ],
   "source": [
    "thres3"
   ]
  },
  {
   "cell_type": "code",
   "execution_count": 15,
   "id": "61acba26",
   "metadata": {},
   "outputs": [
    {
     "data": {
      "text/plain": [
       "array([[[237, 177, 111],\n",
       "        [237, 177, 111],\n",
       "        [237, 177, 111],\n",
       "        ...,\n",
       "        [237, 177, 111],\n",
       "        [237, 177, 111],\n",
       "        [237, 177, 111]],\n",
       "\n",
       "       [[235, 175, 109],\n",
       "        [235, 175, 109],\n",
       "        [235, 175, 109],\n",
       "        ...,\n",
       "        [235, 175, 109],\n",
       "        [235, 175, 109],\n",
       "        [235, 175, 109]],\n",
       "\n",
       "       [[233, 174, 105],\n",
       "        [233, 174, 105],\n",
       "        [233, 174, 105],\n",
       "        ...,\n",
       "        [233, 174, 105],\n",
       "        [233, 174, 105],\n",
       "        [233, 174, 105]],\n",
       "\n",
       "       ...,\n",
       "\n",
       "       [[  0,   0,   0],\n",
       "        [  0,   0,   0],\n",
       "        [  0,   0,   0],\n",
       "        ...,\n",
       "        [ 90, 146,   0],\n",
       "        [ 96, 157,   0],\n",
       "        [  0, 147,   0]],\n",
       "\n",
       "       [[  0,   0,   0],\n",
       "        [  0,   0,   0],\n",
       "        [  0,   0,   0],\n",
       "        ...,\n",
       "        [  0,  93,   0],\n",
       "        [  0, 114,   0],\n",
       "        [  0, 108,   0]],\n",
       "\n",
       "       [[  0,   0,   0],\n",
       "        [  0,   0,   0],\n",
       "        [  0,   0,   0],\n",
       "        ...,\n",
       "        [  0,  92,   0],\n",
       "        [  0,  98,   0],\n",
       "        [  0, 111,   0]]], dtype=uint8)"
      ]
     },
     "execution_count": 15,
     "metadata": {},
     "output_type": "execute_result"
    }
   ],
   "source": [
    "thres4"
   ]
  },
  {
   "cell_type": "code",
   "execution_count": 16,
   "id": "1eac2665",
   "metadata": {},
   "outputs": [
    {
     "data": {
      "text/plain": [
       "array([[[ 0,  0,  0],\n",
       "        [ 0,  0,  0],\n",
       "        [ 0,  0,  0],\n",
       "        ...,\n",
       "        [ 0,  0,  0],\n",
       "        [ 0,  0,  0],\n",
       "        [ 0,  0,  0]],\n",
       "\n",
       "       [[ 0,  0,  0],\n",
       "        [ 0,  0,  0],\n",
       "        [ 0,  0,  0],\n",
       "        ...,\n",
       "        [ 0,  0,  0],\n",
       "        [ 0,  0,  0],\n",
       "        [ 0,  0,  0]],\n",
       "\n",
       "       [[ 0,  0,  0],\n",
       "        [ 0,  0,  0],\n",
       "        [ 0,  0,  0],\n",
       "        ...,\n",
       "        [ 0,  0,  0],\n",
       "        [ 0,  0,  0],\n",
       "        [ 0,  0,  0]],\n",
       "\n",
       "       ...,\n",
       "\n",
       "       [[27, 77, 29],\n",
       "        [28, 75, 29],\n",
       "        [34, 77, 34],\n",
       "        ...,\n",
       "        [ 0,  0, 57],\n",
       "        [ 0,  0, 66],\n",
       "        [83,  0, 52]],\n",
       "\n",
       "       [[ 3, 53,  5],\n",
       "        [ 0, 45,  0],\n",
       "        [ 2, 45,  2],\n",
       "        ...,\n",
       "        [35,  0,  5],\n",
       "        [52,  0, 24],\n",
       "        [43,  0, 16]],\n",
       "\n",
       "       [[ 0, 47,  0],\n",
       "        [ 0, 36,  0],\n",
       "        [ 0, 33,  0],\n",
       "        ...,\n",
       "        [32,  0,  4],\n",
       "        [36,  0,  8],\n",
       "        [46,  0, 19]]], dtype=uint8)"
      ]
     },
     "execution_count": 16,
     "metadata": {},
     "output_type": "execute_result"
    }
   ],
   "source": [
    "thres5"
   ]
  },
  {
   "cell_type": "code",
   "execution_count": 17,
   "id": "378c6aaf",
   "metadata": {},
   "outputs": [
    {
     "name": "stdout",
     "output_type": "stream",
     "text": [
      "83.0\n"
     ]
    }
   ],
   "source": [
    "print(ret)"
   ]
  },
  {
   "cell_type": "code",
   "execution_count": 20,
   "id": "c99b469b",
   "metadata": {},
   "outputs": [],
   "source": [
    "cv2.imshow(\"Thres_img1\",thres1)\n",
    "cv2.imshow(\"Thres_img2\",thres2)\n",
    "cv2.imshow(\"Thres_img3\",thres3)\n",
    "cv2.imshow(\"Thres_img4\",thres4)\n",
    "cv2.imshow(\"Thres_img5\",thres5)\n",
    "cv2.waitKey(0)\n",
    "cv2.destroyAllWindows()"
   ]
  },
  {
   "cell_type": "code",
   "execution_count": null,
   "id": "b58cc35d",
   "metadata": {},
   "outputs": [],
   "source": []
  }
 ],
 "metadata": {
  "kernelspec": {
   "display_name": "Python 3 (ipykernel)",
   "language": "python",
   "name": "python3"
  },
  "language_info": {
   "codemirror_mode": {
    "name": "ipython",
    "version": 3
   },
   "file_extension": ".py",
   "mimetype": "text/x-python",
   "name": "python",
   "nbconvert_exporter": "python",
   "pygments_lexer": "ipython3",
   "version": "3.9.7"
  }
 },
 "nbformat": 4,
 "nbformat_minor": 5
}
