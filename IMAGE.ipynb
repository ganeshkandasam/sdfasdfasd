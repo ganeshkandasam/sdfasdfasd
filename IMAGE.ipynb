{
 "cells": [
  {
   "cell_type": "code",
   "execution_count": 1,
   "id": "f531b101",
   "metadata": {},
   "outputs": [],
   "source": [
    "import cv2"
   ]
  },
  {
   "cell_type": "code",
   "execution_count": 2,
   "id": "213999e9",
   "metadata": {},
   "outputs": [],
   "source": [
    "import numpy as sn"
   ]
  },
  {
   "cell_type": "code",
   "execution_count": 3,
   "id": "6fb286b0",
   "metadata": {},
   "outputs": [],
   "source": [
    "im1=cv2.imread(\"C:/Users/SN137/Pictures/hh.jpg\")"
   ]
  },
  {
   "cell_type": "code",
   "execution_count": 4,
   "id": "0cbecf83",
   "metadata": {},
   "outputs": [
    {
     "data": {
      "text/plain": [
       "array([[56, 56, 55, ...,  2,  2,  2],\n",
       "       [54, 54, 54, ...,  2,  2,  2],\n",
       "       [52, 52, 53, ...,  2,  2,  2],\n",
       "       ...,\n",
       "       [ 9,  9,  8, ...,  7,  7,  8],\n",
       "       [ 9,  9,  8, ...,  8,  8,  8],\n",
       "       [ 8,  8,  8, ...,  8,  8,  9]], dtype=uint8)"
      ]
     },
     "execution_count": 4,
     "metadata": {},
     "output_type": "execute_result"
    }
   ],
   "source": [
    "im1"
   ]
  },
  {
   "cell_type": "code",
   "execution_count": 7,
   "id": "5b8d04f6",
   "metadata": {},
   "outputs": [],
   "source": [
    "cv2.imshow(\"uthaya\",im1)\n",
    "cv2.waitKey(1000)\n",
    "cv2.destroyAllWindows()"
   ]
  },
  {
   "cell_type": "code",
   "execution_count": null,
   "id": "4f7469d2",
   "metadata": {},
   "outputs": [],
   "source": []
  }
 ],
 "metadata": {
  "kernelspec": {
   "display_name": "Python 3 (ipykernel)",
   "language": "python",
   "name": "python3"
  },
  "language_info": {
   "codemirror_mode": {
    "name": "ipython",
    "version": 3
   },
   "file_extension": ".py",
   "mimetype": "text/x-python",
   "name": "python",
   "nbconvert_exporter": "python",
   "pygments_lexer": "ipython3",
   "version": "3.9.13"
  }
 },
 "nbformat": 4,
 "nbformat_minor": 5
}
