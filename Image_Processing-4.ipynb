{
 "cells": [
  {
   "cell_type": "code",
   "execution_count": null,
   "id": "e15354ea",
   "metadata": {},
   "outputs": [],
   "source": [
    "# pip install opencv-python"
   ]
  },
  {
   "cell_type": "code",
   "execution_count": 1,
   "id": "70fd2ea7",
   "metadata": {},
   "outputs": [],
   "source": [
    "import cv2\n",
    "import numpy as np"
   ]
  },
  {
   "cell_type": "code",
   "execution_count": 2,
   "id": "a4694e1a",
   "metadata": {},
   "outputs": [],
   "source": [
    "im1=cv2.imread"
   ]
  },
  {
   "cell_type": "code",
   "execution_count": 3,
   "id": "fd68fc8f",
   "metadata": {
    "scrolled": true
   },
   "outputs": [],
   "source": [
    "im1=cv2.imread(\"img1.jfif\")\n",
    "im2=cv2.imread(\"img2.jfif\")"
   ]
  },
  {
   "cell_type": "code",
   "execution_count": 4,
   "id": "d879d9e6",
   "metadata": {},
   "outputs": [
    {
     "name": "stdout",
     "output_type": "stream",
     "text": [
      "(180, 216, 3)\n",
      "(180, 267, 3)\n"
     ]
    }
   ],
   "source": [
    "print(im1.shape)\n",
    "print(im2.shape)"
   ]
  },
  {
   "cell_type": "code",
   "execution_count": 5,
   "id": "f4755583",
   "metadata": {},
   "outputs": [
    {
     "data": {
      "text/plain": [
       "array([[[253, 247, 242],\n",
       "        [250, 244, 239],\n",
       "        [251, 245, 240],\n",
       "        ...,\n",
       "        [254, 253, 249],\n",
       "        [254, 253, 249],\n",
       "        [254, 253, 249]],\n",
       "\n",
       "       [[249, 243, 238],\n",
       "        [246, 240, 235],\n",
       "        [247, 241, 236],\n",
       "        ...,\n",
       "        [254, 253, 249],\n",
       "        [254, 253, 249],\n",
       "        [254, 253, 249]],\n",
       "\n",
       "       [[248, 242, 237],\n",
       "        [244, 238, 233],\n",
       "        [244, 238, 233],\n",
       "        ...,\n",
       "        [254, 253, 249],\n",
       "        [254, 253, 249],\n",
       "        [254, 253, 249]],\n",
       "\n",
       "       ...,\n",
       "\n",
       "       [[244, 235, 222],\n",
       "        [246, 238, 225],\n",
       "        [234, 225, 216],\n",
       "        ...,\n",
       "        [224, 218, 211],\n",
       "        [224, 218, 211],\n",
       "        [224, 218, 211]],\n",
       "\n",
       "       [[245, 236, 223],\n",
       "        [248, 240, 227],\n",
       "        [236, 227, 218],\n",
       "        ...,\n",
       "        [227, 221, 214],\n",
       "        [227, 221, 214],\n",
       "        [227, 221, 214]],\n",
       "\n",
       "       [[247, 238, 225],\n",
       "        [250, 242, 229],\n",
       "        [238, 229, 220],\n",
       "        ...,\n",
       "        [230, 224, 217],\n",
       "        [230, 224, 217],\n",
       "        [230, 224, 217]]], dtype=uint8)"
      ]
     },
     "execution_count": 5,
     "metadata": {},
     "output_type": "execute_result"
    }
   ],
   "source": [
    "im2"
   ]
  },
  {
   "cell_type": "code",
   "execution_count": 6,
   "id": "5cfc927d",
   "metadata": {},
   "outputs": [
    {
     "data": {
      "text/plain": [
       "array([[[237, 177, 111],\n",
       "        [237, 177, 111],\n",
       "        [237, 177, 111],\n",
       "        ...,\n",
       "        [237, 177, 111],\n",
       "        [237, 177, 111],\n",
       "        [237, 177, 111]],\n",
       "\n",
       "       [[235, 175, 109],\n",
       "        [235, 175, 109],\n",
       "        [235, 175, 109],\n",
       "        ...,\n",
       "        [235, 175, 109],\n",
       "        [235, 175, 109],\n",
       "        [235, 175, 109]],\n",
       "\n",
       "       [[233, 174, 105],\n",
       "        [233, 174, 105],\n",
       "        [233, 174, 105],\n",
       "        ...,\n",
       "        [233, 174, 105],\n",
       "        [233, 174, 105],\n",
       "        [233, 174, 105]],\n",
       "\n",
       "       ...,\n",
       "\n",
       "       [[ 27,  77,  29],\n",
       "        [ 28,  75,  29],\n",
       "        [ 34,  77,  34],\n",
       "        ...,\n",
       "        [ 90, 146,  57],\n",
       "        [ 96, 157,  66],\n",
       "        [ 83, 147,  52]],\n",
       "\n",
       "       [[  3,  53,   5],\n",
       "        [  0,  45,   0],\n",
       "        [  2,  45,   2],\n",
       "        ...,\n",
       "        [ 35,  93,   5],\n",
       "        [ 52, 114,  24],\n",
       "        [ 43, 108,  16]],\n",
       "\n",
       "       [[  0,  47,   0],\n",
       "        [  0,  36,   0],\n",
       "        [  0,  33,   0],\n",
       "        ...,\n",
       "        [ 32,  92,   4],\n",
       "        [ 36,  98,   8],\n",
       "        [ 46, 111,  19]]], dtype=uint8)"
      ]
     },
     "execution_count": 6,
     "metadata": {},
     "output_type": "execute_result"
    }
   ],
   "source": [
    "im1"
   ]
  },
  {
   "cell_type": "raw",
   "id": "818aef8c",
   "metadata": {},
   "source": [
    "cv2.imshow(\"not+or\",xor)\n",
    "cv2.waitkey(0)\n",
    "cv2.imshow(\"b_XOR\",XOR)\n",
    "cv2.waitkey(0)\n",
    "cv2.destroyAllWindows()"
   ]
  },
  {
   "cell_type": "raw",
   "id": "5ff5f739",
   "metadata": {},
   "source": [
    "cv2.imshow(\"sample1\",im1)\n",
    "cv2.imshow(\"Sample2\",im2)\n",
    "cv2.waitKey(0)\n",
    "cv2.destroyAllWindows()"
   ]
  },
  {
   "cell_type": "code",
   "execution_count": 7,
   "id": "d9eef78d",
   "metadata": {},
   "outputs": [],
   "source": [
    "im1_shape=im1.shape\n",
    "im2_shape=im2.shape"
   ]
  },
  {
   "cell_type": "code",
   "execution_count": 8,
   "id": "67a8a8e3",
   "metadata": {},
   "outputs": [
    {
     "name": "stdout",
     "output_type": "stream",
     "text": [
      "(180, 216, 3)\n"
     ]
    }
   ],
   "source": [
    "print(im1.shape)"
   ]
  },
  {
   "cell_type": "code",
   "execution_count": 9,
   "id": "d058d089",
   "metadata": {},
   "outputs": [
    {
     "name": "stdout",
     "output_type": "stream",
     "text": [
      "(180, 267, 3)\n"
     ]
    }
   ],
   "source": [
    "print(im2.shape)"
   ]
  },
  {
   "cell_type": "code",
   "execution_count": 10,
   "id": "35b028bb",
   "metadata": {},
   "outputs": [
    {
     "name": "stdout",
     "output_type": "stream",
     "text": [
      "116640\n"
     ]
    }
   ],
   "source": [
    "print(im1.size)"
   ]
  },
  {
   "cell_type": "code",
   "execution_count": 11,
   "id": "47a88a21",
   "metadata": {},
   "outputs": [
    {
     "name": "stdout",
     "output_type": "stream",
     "text": [
      "144180\n"
     ]
    }
   ],
   "source": [
    "print(im2.size)"
   ]
  },
  {
   "cell_type": "code",
   "execution_count": 12,
   "id": "d07ff14e",
   "metadata": {},
   "outputs": [],
   "source": [
    "im1_resized=cv2.resize(im1,(230,290))\n",
    "im2_resized=cv2.resize(im2,(230,290))"
   ]
  },
  {
   "cell_type": "raw",
   "id": "3fe3e7ba",
   "metadata": {},
   "source": [
    "cv2.imshow(\"Sample1\",im1)\n",
    "cv2.imshow(\"Sample3\",im1_resized)\n",
    "cv2.imshow(\"Sample2\",im2)\n",
    "cv2.imshow(\"SAmple4\",im2_resized)\n",
    "cv2.waitKey(0)\n",
    "cv2.destroyAllwindows()"
   ]
  },
  {
   "cell_type": "code",
   "execution_count": 13,
   "id": "506370bb",
   "metadata": {},
   "outputs": [],
   "source": [
    "#ROI Region of Interest"
   ]
  },
  {
   "cell_type": "code",
   "execution_count": 14,
   "id": "62219a51",
   "metadata": {},
   "outputs": [],
   "source": [
    "roi_1 = im1[0:50,]\n",
    "roi_2 = im2[0:60,]"
   ]
  },
  {
   "cell_type": "code",
   "execution_count": 15,
   "id": "decbde36",
   "metadata": {},
   "outputs": [],
   "source": [
    "cv2.imshow(\"ROI_1\",roi_1)\n",
    "cv2.imshow(\"ROI_2\",roi_2)\n",
    "cv2.waitKey(0)\n",
    "cv2.destroyAllWindows()"
   ]
  },
  {
   "cell_type": "raw",
   "id": "eb264b5c",
   "metadata": {},
   "source": [
    "NOR = cv2.bitwise_not(OR)"
   ]
  },
  {
   "cell_type": "raw",
   "id": "41563021",
   "metadata": {},
   "source": [
    "cv2.imshow(\"not+or\",NOR)\n",
    "cv2.waitKey(0)\n",
    "cv2.imshow(\"b_XOR\",XOR)\n",
    "cv2.waitKey(0)\n",
    "cv2.destroyAllWindows()"
   ]
  },
  {
   "cell_type": "code",
   "execution_count": null,
   "id": "4ff39a00",
   "metadata": {},
   "outputs": [],
   "source": []
  }
 ],
 "metadata": {
  "kernelspec": {
   "display_name": "Python 3 (ipykernel)",
   "language": "python",
   "name": "python3"
  },
  "language_info": {
   "codemirror_mode": {
    "name": "ipython",
    "version": 3
   },
   "file_extension": ".py",
   "mimetype": "text/x-python",
   "name": "python",
   "nbconvert_exporter": "python",
   "pygments_lexer": "ipython3",
   "version": "3.9.7"
  }
 },
 "nbformat": 4,
 "nbformat_minor": 5
}
