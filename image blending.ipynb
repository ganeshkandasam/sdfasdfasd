{
 "cells": [
  {
   "cell_type": "markdown",
   "id": "f00e885f",
   "metadata": {},
   "source": [
    "# image blending"
   ]
  },
  {
   "cell_type": "code",
   "execution_count": 1,
   "id": "0d06216e",
   "metadata": {},
   "outputs": [],
   "source": [
    "import cv2\n",
    "import numpy"
   ]
  },
  {
   "cell_type": "code",
   "execution_count": 2,
   "id": "e9b22c03",
   "metadata": {},
   "outputs": [],
   "source": [
    "im1=cv2.imread(\"C:/Users/SN137/Pictures/blue.png\")"
   ]
  },
  {
   "cell_type": "code",
   "execution_count": 3,
   "id": "2cccb09c",
   "metadata": {},
   "outputs": [
    {
     "data": {
      "text/plain": [
       "array([[[232, 162,   0],\n",
       "        [232, 162,   0],\n",
       "        [232, 162,   0],\n",
       "        ...,\n",
       "        [232, 162,   0],\n",
       "        [232, 162,   0],\n",
       "        [232, 162,   0]],\n",
       "\n",
       "       [[232, 162,   0],\n",
       "        [232, 162,   0],\n",
       "        [232, 162,   0],\n",
       "        ...,\n",
       "        [232, 162,   0],\n",
       "        [232, 162,   0],\n",
       "        [232, 162,   0]],\n",
       "\n",
       "       [[232, 162,   0],\n",
       "        [232, 162,   0],\n",
       "        [232, 162,   0],\n",
       "        ...,\n",
       "        [232, 162,   0],\n",
       "        [232, 162,   0],\n",
       "        [232, 162,   0]],\n",
       "\n",
       "       ...,\n",
       "\n",
       "       [[232, 162,   0],\n",
       "        [232, 162,   0],\n",
       "        [232, 162,   0],\n",
       "        ...,\n",
       "        [232, 162,   0],\n",
       "        [232, 162,   0],\n",
       "        [232, 162,   0]],\n",
       "\n",
       "       [[232, 162,   0],\n",
       "        [232, 162,   0],\n",
       "        [232, 162,   0],\n",
       "        ...,\n",
       "        [232, 162,   0],\n",
       "        [232, 162,   0],\n",
       "        [232, 162,   0]],\n",
       "\n",
       "       [[232, 162,   0],\n",
       "        [232, 162,   0],\n",
       "        [232, 162,   0],\n",
       "        ...,\n",
       "        [232, 162,   0],\n",
       "        [232, 162,   0],\n",
       "        [232, 162,   0]]], dtype=uint8)"
      ]
     },
     "execution_count": 3,
     "metadata": {},
     "output_type": "execute_result"
    }
   ],
   "source": [
    "im1"
   ]
  },
  {
   "cell_type": "code",
   "execution_count": 4,
   "id": "6f3a15b3",
   "metadata": {},
   "outputs": [],
   "source": [
    "im2=cv2.imread(\"C:/Users/SN137/Pictures/bink.png\")"
   ]
  },
  {
   "cell_type": "code",
   "execution_count": 5,
   "id": "2ba19df7",
   "metadata": {},
   "outputs": [
    {
     "data": {
      "text/plain": [
       "array([[[201, 174, 255],\n",
       "        [201, 174, 255],\n",
       "        [201, 174, 255],\n",
       "        ...,\n",
       "        [201, 174, 255],\n",
       "        [201, 174, 255],\n",
       "        [201, 174, 255]],\n",
       "\n",
       "       [[201, 174, 255],\n",
       "        [201, 174, 255],\n",
       "        [201, 174, 255],\n",
       "        ...,\n",
       "        [201, 174, 255],\n",
       "        [201, 174, 255],\n",
       "        [201, 174, 255]],\n",
       "\n",
       "       [[201, 174, 255],\n",
       "        [201, 174, 255],\n",
       "        [201, 174, 255],\n",
       "        ...,\n",
       "        [201, 174, 255],\n",
       "        [201, 174, 255],\n",
       "        [201, 174, 255]],\n",
       "\n",
       "       ...,\n",
       "\n",
       "       [[201, 174, 255],\n",
       "        [201, 174, 255],\n",
       "        [201, 174, 255],\n",
       "        ...,\n",
       "        [201, 174, 255],\n",
       "        [201, 174, 255],\n",
       "        [201, 174, 255]],\n",
       "\n",
       "       [[201, 174, 255],\n",
       "        [201, 174, 255],\n",
       "        [201, 174, 255],\n",
       "        ...,\n",
       "        [201, 174, 255],\n",
       "        [201, 174, 255],\n",
       "        [201, 174, 255]],\n",
       "\n",
       "       [[201, 174, 255],\n",
       "        [201, 174, 255],\n",
       "        [201, 174, 255],\n",
       "        ...,\n",
       "        [201, 174, 255],\n",
       "        [201, 174, 255],\n",
       "        [201, 174, 255]]], dtype=uint8)"
      ]
     },
     "execution_count": 5,
     "metadata": {},
     "output_type": "execute_result"
    }
   ],
   "source": [
    "im2"
   ]
  },
  {
   "cell_type": "code",
   "execution_count": null,
   "id": "9308e216",
   "metadata": {},
   "outputs": [],
   "source": [
    "cv2.imshow(\"img\",im1)\n",
    "cv2.imshow(\"img2\",im2)\n",
    "cv2.waitKey(0)\n",
    "cv2.destroyAllwindows()"
   ]
  },
  {
   "cell_type": "markdown",
   "id": "efebb092",
   "metadata": {},
   "source": [
    "# blending"
   ]
  },
  {
   "cell_type": "code",
   "execution_count": null,
   "id": "0a97b345",
   "metadata": {},
   "outputs": [],
   "source": [
    "blend=cv2.addWeighted(im1,0.5,im2,0.5,0)"
   ]
  },
  {
   "cell_type": "code",
   "execution_count": null,
   "id": "91936b3a",
   "metadata": {},
   "outputs": [],
   "source": [
    "cv2.imshow(\"blend\",blend)\n",
    "cv2.imshow(\"img1\",im1)\n",
    "cv2.imshow(\"img2\",im2)\n",
    "cv2.waitKey(0)\n",
    "cv2.destroyAllwindows()"
   ]
  },
  {
   "cell_type": "code",
   "execution_count": null,
   "id": "864c7e46",
   "metadata": {},
   "outputs": [],
   "source": [
    "import numpy as np"
   ]
  },
  {
   "cell_type": "code",
   "execution_count": null,
   "id": "6d0b169e",
   "metadata": {},
   "outputs": [],
   "source": []
  },
  {
   "cell_type": "code",
   "execution_count": null,
   "id": "bc4a28f4",
   "metadata": {},
   "outputs": [],
   "source": []
  }
 ],
 "metadata": {
  "kernelspec": {
   "display_name": "Python 3 (ipykernel)",
   "language": "python",
   "name": "python3"
  },
  "language_info": {
   "codemirror_mode": {
    "name": "ipython",
    "version": 3
   },
   "file_extension": ".py",
   "mimetype": "text/x-python",
   "name": "python",
   "nbconvert_exporter": "python",
   "pygments_lexer": "ipython3",
   "version": "3.9.13"
  }
 },
 "nbformat": 4,
 "nbformat_minor": 5
}
