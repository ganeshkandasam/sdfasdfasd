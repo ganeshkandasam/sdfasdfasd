{
 "cells": [
  {
   "cell_type": "code",
   "execution_count": 1,
   "id": "6bfbda66",
   "metadata": {},
   "outputs": [],
   "source": [
    "import cv2\n",
    "import numpy as np"
   ]
  },
  {
   "cell_type": "code",
   "execution_count": 2,
   "id": "c19f4b11",
   "metadata": {},
   "outputs": [],
   "source": [
    "a=cv2.imread(\"C:/Users/SN139/Downloads/img1.png\")\n",
    "b=cv2.imread(\"C:/Users/SN139/Downloads/img2.png\")"
   ]
  },
  {
   "cell_type": "code",
   "execution_count": 3,
   "id": "3961fa7f",
   "metadata": {},
   "outputs": [],
   "source": [
    "cv2.imshow(\"img1\",a)\n",
    "cv2.imshow(\"img2\",b)\n",
    "cv2.waitKey(5)\n",
    "cv2.destroyAllWindows()"
   ]
  },
  {
   "cell_type": "code",
   "execution_count": 4,
   "id": "b981a9cd",
   "metadata": {},
   "outputs": [],
   "source": [
    "blend=cv2.addWeighted(a,0.5,b,0.3,0)"
   ]
  },
  {
   "cell_type": "code",
   "execution_count": null,
   "id": "4f08ffb4",
   "metadata": {},
   "outputs": [],
   "source": [
    "cv2.imshow(\"blend\",blend)\n",
    "cv2.imshow(\"img1\",a)\n",
    "cv2.imshow(\"img2\",b)\n",
    "cv2.waitKey(0)\n",
    "cv2.destroyAllWindows()"
   ]
  },
  {
   "cell_type": "code",
   "execution_count": null,
   "id": "f9179b74",
   "metadata": {},
   "outputs": [],
   "source": []
  },
  {
   "cell_type": "code",
   "execution_count": null,
   "id": "37a3d8db",
   "metadata": {},
   "outputs": [],
   "source": [
    "And = cv2.bitwise_and(im1_resized,im2)\n",
    "OR = cv2.bitwise_or(im1_resized,im2)\n",
    "Not = cv2.bitwise_not(im1_resized,im2)\n"
   ]
  },
  {
   "cell_type": "code",
   "execution_count": null,
   "id": "c14245ac",
   "metadata": {},
   "outputs": [],
   "source": [
    "imsub = cv2.subtract(im1_resized,im2)"
   ]
  },
  {
   "cell_type": "code",
   "execution_count": null,
   "id": "73381a4d",
   "metadata": {},
   "outputs": [],
   "source": []
  }
 ],
 "metadata": {
  "kernelspec": {
   "display_name": "Python 3 (ipykernel)",
   "language": "python",
   "name": "python3"
  },
  "language_info": {
   "codemirror_mode": {
    "name": "ipython",
    "version": 3
   },
   "file_extension": ".py",
   "mimetype": "text/x-python",
   "name": "python",
   "nbconvert_exporter": "python",
   "pygments_lexer": "ipython3",
   "version": "3.9.7"
  }
 },
 "nbformat": 4,
 "nbformat_minor": 5
}
