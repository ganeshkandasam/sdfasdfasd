{
 "cells": [
  {
   "cell_type": "code",
   "execution_count": 1,
   "id": "0862f9f9",
   "metadata": {},
   "outputs": [],
   "source": [
    "import cv2"
   ]
  },
  {
   "cell_type": "code",
   "execution_count": 2,
   "id": "df2aacfc",
   "metadata": {},
   "outputs": [],
   "source": [
    "import numpy as sn"
   ]
  },
  {
   "cell_type": "code",
   "execution_count": 3,
   "id": "c2869f33",
   "metadata": {},
   "outputs": [],
   "source": [
    "im2=cv2.imread(\"C:/Users/SN137/Pictures/tree.jpg\")"
   ]
  },
  {
   "cell_type": "code",
   "execution_count": 4,
   "id": "73e00ee8",
   "metadata": {},
   "outputs": [
    {
     "data": {
      "text/plain": [
       "array([[[ 81,  13,   0],\n",
       "        [138,  57,  22],\n",
       "        [185,  75,   9],\n",
       "        ...,\n",
       "        [111,  44,   0],\n",
       "        [109,  44,   0],\n",
       "        [109,  44,   0]],\n",
       "\n",
       "       [[ 81,  13,   0],\n",
       "        [138,  57,  22],\n",
       "        [185,  75,   9],\n",
       "        ...,\n",
       "        [111,  44,   0],\n",
       "        [109,  44,   0],\n",
       "        [109,  44,   0]],\n",
       "\n",
       "       [[ 81,  13,   0],\n",
       "        [138,  57,  22],\n",
       "        [185,  75,   9],\n",
       "        ...,\n",
       "        [111,  45,   0],\n",
       "        [109,  44,   0],\n",
       "        [109,  44,   0]],\n",
       "\n",
       "       ...,\n",
       "\n",
       "       [[  0,  11,   0],\n",
       "        [ 15,  39,  27],\n",
       "        [  0,  31,  17],\n",
       "        ...,\n",
       "        [  0, 115,  36],\n",
       "        [  9, 125,  48],\n",
       "        [ 15, 131,  54]],\n",
       "\n",
       "       [[  0,  10,   0],\n",
       "        [  9,  35,  22],\n",
       "        [  3,  38,  24],\n",
       "        ...,\n",
       "        [  5, 130,  50],\n",
       "        [  0, 127,  48],\n",
       "        [  7, 137,  60]],\n",
       "\n",
       "       [[  0,  12,   0],\n",
       "        [  9,  35,  22],\n",
       "        [  7,  43,  29],\n",
       "        ...,\n",
       "        [  4, 135,  54],\n",
       "        [ 48, 183, 105],\n",
       "        [ 46, 184, 106]]], dtype=uint8)"
      ]
     },
     "execution_count": 4,
     "metadata": {},
     "output_type": "execute_result"
    }
   ],
   "source": [
    "im2"
   ]
  },
  {
   "cell_type": "markdown",
   "id": "fd4c6879",
   "metadata": {},
   "source": [
    "# display the image"
   ]
  },
  {
   "cell_type": "code",
   "execution_count": 5,
   "id": "3f0e40e0",
   "metadata": {},
   "outputs": [],
   "source": [
    "cv2.imshow(\"uthaya\",im2)\n",
    "cv2.waitKey(3)\n",
    "cv2.destroyAllWindows()"
   ]
  },
  {
   "cell_type": "code",
   "execution_count": 6,
   "id": "dc06cca9",
   "metadata": {},
   "outputs": [],
   "source": [
    "uthaya=im2.shape"
   ]
  },
  {
   "cell_type": "code",
   "execution_count": 7,
   "id": "c26fa8d4",
   "metadata": {},
   "outputs": [
    {
     "name": "stdout",
     "output_type": "stream",
     "text": [
      "(1358, 2526, 3)\n"
     ]
    }
   ],
   "source": [
    "print(im2.shape)"
   ]
  },
  {
   "cell_type": "code",
   "execution_count": 8,
   "id": "15588a77",
   "metadata": {},
   "outputs": [
    {
     "name": "stdout",
     "output_type": "stream",
     "text": [
      "10290924\n"
     ]
    }
   ],
   "source": [
    "print(im2.size)"
   ]
  },
  {
   "cell_type": "code",
   "execution_count": 9,
   "id": "4bf767d2",
   "metadata": {},
   "outputs": [],
   "source": [
    "im2_resized=cv2.resize(im2,(250,250))"
   ]
  },
  {
   "cell_type": "code",
   "execution_count": 10,
   "id": "f2de09f8",
   "metadata": {
    "scrolled": true
   },
   "outputs": [
    {
     "name": "stdout",
     "output_type": "stream",
     "text": [
      "(250, 250, 3)\n"
     ]
    }
   ],
   "source": [
    "print(im2_resized.shape)"
   ]
  },
  {
   "cell_type": "code",
   "execution_count": null,
   "id": "444a2769",
   "metadata": {},
   "outputs": [],
   "source": [
    "cv2.imshow(\"im2\",im2)\n",
    "cv2.imshow(\"im1\",im2_resized)\n",
    "cv2.waitKey(0)\n",
    "cv2.destroyAllwindows()"
   ]
  },
  {
   "cell_type": "markdown",
   "id": "7ae2bf2c",
   "metadata": {},
   "source": [
    "# COLOR SPACE CHANGING"
   ]
  },
  {
   "cell_type": "raw",
   "id": "29f6a854",
   "metadata": {},
   "source": [
    "colors_avl=[i for i in dir(cv2) if i.startswith(\"color_BGR\")]"
   ]
  },
  {
   "cell_type": "code",
   "execution_count": 12,
   "id": "85c36722",
   "metadata": {},
   "outputs": [
    {
     "name": "stdout",
     "output_type": "stream",
     "text": [
      "colors_avl\n"
     ]
    }
   ],
   "source": [
    "print(\"colors_avl\")"
   ]
  },
  {
   "cell_type": "code",
   "execution_count": 13,
   "id": "bedd20f1",
   "metadata": {},
   "outputs": [],
   "source": [
    "im3=cv2.cvtColor(im2,cv2.COLOR_BGR2HSV)"
   ]
  },
  {
   "cell_type": "code",
   "execution_count": null,
   "id": "35fc7abc",
   "metadata": {},
   "outputs": [],
   "source": [
    "cv2.imshow(\"img1\",im2)\n",
    "cv2.imshow(\"img2\",im3)\n",
    "cv2.waitKey(0)\n",
    "cv2.destroyAllwindows"
   ]
  },
  {
   "cell_type": "code",
   "execution_count": null,
   "id": "e1fd54d4",
   "metadata": {},
   "outputs": [],
   "source": []
  },
  {
   "cell_type": "code",
   "execution_count": null,
   "id": "b6296a7a",
   "metadata": {},
   "outputs": [],
   "source": []
  },
  {
   "cell_type": "code",
   "execution_count": null,
   "id": "6df01a32",
   "metadata": {},
   "outputs": [],
   "source": []
  }
 ],
 "metadata": {
  "kernelspec": {
   "display_name": "Python 3 (ipykernel)",
   "language": "python",
   "name": "python3"
  },
  "language_info": {
   "codemirror_mode": {
    "name": "ipython",
    "version": 3
   },
   "file_extension": ".py",
   "mimetype": "text/x-python",
   "name": "python",
   "nbconvert_exporter": "python",
   "pygments_lexer": "ipython3",
   "version": "3.9.7"
  }
 },
 "nbformat": 4,
 "nbformat_minor": 5
}
